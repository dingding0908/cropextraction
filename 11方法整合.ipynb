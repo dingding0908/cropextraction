{
 "cells": [
  {
   "cell_type": "code",
   "execution_count": null,
   "metadata": {
    "collapsed": true
   },
   "outputs": [],
   "source": [
    "import numpy as np\n",
    "\n",
    "\n",
    "def function(ndvi, sndvi):\n",
    "    '''\n",
    "    :param ndvi: 单像元多时序数据NDVI\n",
    "    :return: 返回是分类后的结果，整型数据\n",
    "    '''\n",
    "    result = 0\n",
    "    # 默认nparray时序是6个时序\n",
    "    if ndvi[3] + ndvi[5] > 2 * ndvi[4]:\n",
    "        result = 2  #区分出：水稻\n",
    "    else:\n",
    "        result = 3  #区分出：大豆\n",
    "        if sndvi[5] > -0.12:\n",
    "            result = 4  #区分出：花生\n",
    "        else:\n",
    "            if 2 * sndvi[4] < sndvi[5] + sndvi[3]:\n",
    "                result = 5  #区分出：玉米\n",
    "            else:\n",
    "                if sndvi[2] > 0.1:\n",
    "                    result = 6  #区分出：旱稻\n",
    "\n",
    "    return result"
   ]
  },
  {
   "cell_type": "code",
   "execution_count": null,
   "outputs": [],
   "source": [
    "ndvi = np.array([0.177626,\n",
    "                 0.700582,\n",
    "                 0.842713,\n",
    "                 0.672470,\n",
    "                 0.343528,\n",
    "                 0.318399])\n",
    "sndvi = np.array([])\n",
    "function(ndvi, sndvi)"
   ],
   "metadata": {
    "collapsed": false,
    "pycharm": {
     "name": "#%%\n"
    }
   }
  }
 ],
 "metadata": {
  "kernelspec": {
   "display_name": "Python 3",
   "language": "python",
   "name": "python3"
  },
  "language_info": {
   "codemirror_mode": {
    "name": "ipython",
    "version": 2
   },
   "file_extension": ".py",
   "mimetype": "text/x-python",
   "name": "python",
   "nbconvert_exporter": "python",
   "pygments_lexer": "ipython2",
   "version": "2.7.6"
  }
 },
 "nbformat": 4,
 "nbformat_minor": 0
}