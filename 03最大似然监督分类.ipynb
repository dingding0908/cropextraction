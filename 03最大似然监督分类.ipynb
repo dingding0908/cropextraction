{
 "cells": [
  {
   "cell_type": "code",
   "execution_count": 6,
   "metadata": {
    "collapsed": true
   },
   "outputs": [],
   "source": [
    "# Maximum likelihood supervised classification"
   ]
  },
  {
   "cell_type": "code",
   "execution_count": 1,
   "outputs": [],
   "source": [
    "import numpy as np\n",
    "from osgeo import gdal\n",
    "import geopandas as gpd\n",
    "import rasterio as rio\n",
    "from rasterio.mask import mask\n",
    "from shapely.geometry import mapping"
   ],
   "metadata": {
    "collapsed": false,
    "pycharm": {
     "name": "#%%\n"
    }
   }
  },
  {
   "cell_type": "code",
   "execution_count": 3,
   "outputs": [],
   "source": [
    "# in_raster = r'E:\\Desktop\\Summary\\种植结构提取-水稻\\datas\\CLIP\\clip2021-08-22_4074_S2DL.tif'\n",
    "# in_shp = r'E:\\Desktop\\Summary\\种植结构提取-水稻\\datas\\MLSC\\SHP\\sample.shp'\n",
    "# out_class = r'E:\\Desktop\\Summary\\种植结构提取-水稻\\datas\\MLSC\\MLSC0517_2021-08-22_4074_S2DL.tif'"
   ],
   "metadata": {
    "collapsed": false,
    "pycharm": {
     "name": "#%%\n"
    }
   }
  },
  {
   "cell_type": "code",
   "execution_count": 13,
   "outputs": [],
   "source": [
    "in_raster = r'E:\\Desktop\\Summary\\种植结构提取-水稻\\whole_datas\\2021-08-22_4074_S2DL.tif'\n",
    "in_shp = r'E:\\Desktop\\Summary\\种植结构提取-水稻\\whole_datas\\MLSC\\SHP\\sample.shp'\n",
    "out_class = r'E:\\Desktop\\Summary\\种植结构提取-水稻\\whole_datas\\MLSC\\MLSC0517_2021-08-22_4074_S2DL.tif'"
   ],
   "metadata": {
    "collapsed": false,
    "pycharm": {
     "name": "#%%\n"
    }
   }
  },
  {
   "cell_type": "code",
   "execution_count": 14,
   "outputs": [],
   "source": [
    "def get_train_data(in_raster, in_shp, attr='Id'):\n",
    "    \"\"\"获取训练数据集及其标签\"\"\"\n",
    "    shp_df = gpd.GeoDataFrame.from_file(in_shp)\n",
    "    with rio.open(in_raster) as src:\n",
    "        band_count = src.count\n",
    "        X = np.array([], dtype=np.int16).reshape(band_count, 0)\n",
    "        y = np.array([], dtype=np.int16)\n",
    "        for index, row in shp_df.iterrows():\n",
    "            geo_feature = [mapping(row['geometry'])]\n",
    "            clip_raster = mask(src, geo_feature, crop=True)[0]  # 提取roi\n",
    "            clip_raster_nozero = clip_raster[:, ~np.all(clip_raster == 0, axis=0)]  # 提取非0像元\n",
    "            #\n",
    "            y = np.append(y, [row[attr]] * clip_raster_nozero.shape[1])\n",
    "            X = np.hstack((X, clip_raster_nozero))\n",
    "    return X, y\n",
    "\n",
    "\n",
    "def read_tiff(path):\n",
    "    \"\"\"读取栅格数据\"\"\"\n",
    "    # 参数类型检查\n",
    "    if isinstance(path, gdal.Dataset):\n",
    "        dataset = path\n",
    "    else:\n",
    "        dataset = gdal.Open(path)\n",
    "\n",
    "    if dataset:\n",
    "        im_width = dataset.RasterXSize  # 栅格矩阵的列数\n",
    "        im_height = dataset.RasterYSize  # 栅格矩阵的行数\n",
    "        im_bands = dataset.RasterCount  # 波段数\n",
    "        im_proj = dataset.GetProjection()  # 获取投影信息\n",
    "        im_geotrans = dataset.GetGeoTransform()  # 获取仿射矩阵信息\n",
    "        im_data = dataset.ReadAsArray(0, 0, im_width, im_height)  # 获取数据\n",
    "        return im_data, im_width, im_height, im_bands, im_geotrans, im_proj\n",
    "\n",
    "\n",
    "def write_tiff(im_data, im_geotrans, im_proj, out_path=None, no_data_value=None, return_mode='TIFF'):\n",
    "    \"\"\"保存栅格数据\"\"\"\n",
    "    # 保存类型选择\n",
    "    if 'int8' in im_data.dtype.name or 'bool' in im_data.dtype.name:\n",
    "        datatype = gdal.GDT_Byte\n",
    "    elif 'int16' in im_data.dtype.name:\n",
    "        datatype = gdal.GDT_Int16\n",
    "    else:\n",
    "        datatype = gdal.GDT_Float32\n",
    "    # 矩阵波段识别\n",
    "    if len(im_data.shape) == 3:\n",
    "        im_bands, im_height, im_width = im_data.shape\n",
    "    elif len(im_data.shape) == 2:\n",
    "        # 统一处理为三维矩阵\n",
    "        im_data = np.array([im_data], dtype=im_data.dtype)\n",
    "        im_bands, im_height, im_width = im_data.shape\n",
    "    else:\n",
    "        im_bands, (im_height, im_width) = 1, im_data.shape\n",
    "    # 根据存储类型的不同，获取不同的驱动\n",
    "    if out_path:\n",
    "        dataset = gdal.GetDriverByName('GTiff').Create(out_path, im_width, im_height, im_bands, datatype)\n",
    "    else:\n",
    "        dataset = gdal.GetDriverByName('MEM').Create('', im_width, im_height, im_bands, datatype)\n",
    "    # 写入数据\n",
    "    if dataset is not None:\n",
    "        dataset.SetGeoTransform(im_geotrans)\n",
    "        dataset.SetProjection(im_proj)\n",
    "    # 写入矩阵\n",
    "    for i in range(im_bands):\n",
    "        dataset.GetRasterBand(i + 1).WriteArray(im_data[i])\n",
    "        # 写入无效值\n",
    "        if no_data_value is not None:\n",
    "            # 当每个图层有一个无效值的时候\n",
    "            if isinstance(no_data_value, list) or isinstance(no_data_value, tuple):\n",
    "                if no_data_value[i] is not None:\n",
    "                    dataset.GetRasterBand(i + 1).SetNoDataValue(no_data_value[i])\n",
    "            else:\n",
    "                dataset.GetRasterBand(i + 1).SetNoDataValue(no_data_value)\n",
    "    # 根据返回类型的不同，返回不同的值\n",
    "    if return_mode.upper() == 'MEMORY':\n",
    "        return dataset\n",
    "    elif return_mode.upper() == 'TIFF':\n",
    "        del dataset\n",
    "        return None"
   ],
   "metadata": {
    "collapsed": false,
    "pycharm": {
     "name": "#%%\n"
    }
   }
  },
  {
   "cell_type": "code",
   "execution_count": 15,
   "outputs": [
    {
     "name": "stdout",
     "output_type": "stream",
     "text": [
      "x_shape: (23, 160997)\n",
      "y_shape: (160997,)\n",
      "[1 1 1 ... 0 0 0]\n",
      "2\n",
      "标签: [0 1]\n"
     ]
    }
   ],
   "source": [
    "train_X, train_y = get_train_data(in_raster, in_shp)\n",
    "print('x_shape:', train_X.shape)\n",
    "print('y_shape:', train_y.shape)\n",
    "print(train_y)\n",
    "class_num = len(np.unique(train_y))  # 待分类类别个数\n",
    "print(class_num)\n",
    "class_label = np.unique(train_y)  # 待分类类别标签\n",
    "print('标签:', class_label)\n",
    "bands = train_X.shape[0]  # 波段数"
   ],
   "metadata": {
    "collapsed": false,
    "pycharm": {
     "name": "#%%\n"
    }
   }
  },
  {
   "cell_type": "code",
   "execution_count": null,
   "outputs": [],
   "source": [
    "u, c = [], []\n",
    "for i in class_label:\n",
    "    label_index = np.argwhere(train_y == i)\n",
    "    # print(label_index)\n",
    "    label_index = label_index.flatten()\n",
    "    # print(label_index)\n",
    "    train_X_i = train_X[:, label_index]\n",
    "    # print(train_X_i)\n",
    "    u_i = np.mean(train_X_i, axis=1)\n",
    "    # print(u_i)\n",
    "    u_i = u_i.tolist()\n",
    "    c_i = np.cov(train_X_i)\n",
    "    u.append(u_i)\n",
    "    c.append(c_i)\n",
    "# 假设协方差阵相同\n",
    "print('u', u)\n",
    "print('u.shape', np.array(u).shape)\n",
    "print('\\n', '--------------------------')\n",
    "print('c.shape', np.array(c).shape)\n",
    "print('c', c)"
   ],
   "metadata": {
    "collapsed": false,
    "pycharm": {
     "name": "#%%\n",
     "is_executing": true
    }
   }
  },
  {
   "cell_type": "code",
   "execution_count": 17,
   "outputs": [
    {
     "data": {
      "text/plain": "[array([2.17744485e+02, 2.64358952e+02, 6.27591341e+02, 3.88492462e+02,\n        1.03341013e+03, 3.36760028e+03, 4.40961378e+03, 4.42301218e+03,\n        4.67455926e+03, 4.64538595e+03, 2.35937933e+03, 1.19221209e+03,\n        4.29690789e+02, 2.83451077e+03, 4.00171642e+00, 4.00186487e+01,\n        6.42812957e+01, 2.73063693e+01, 4.63897200e-04]),\n array([4.46291918e+02, 5.22508660e+02, 8.12935323e+02, 6.16914820e+02,\n        9.01331131e+02, 9.53302631e+02, 1.02825756e+03, 9.63536719e+02,\n        9.77125851e+02, 9.85548649e+02, 7.04182236e+02, 4.72363697e+02,\n        4.36608364e+02, 3.18052936e+03, 5.57927539e+00, 6.32406949e+01,\n        8.31015367e+01, 5.35492370e+01, 6.64428722e-02])]"
     },
     "execution_count": 17,
     "metadata": {},
     "output_type": "execute_result"
    }
   ],
   "source": [
    "c_all = 0\n",
    "for i in range(class_num):\n",
    "    c_all += c[i]\n",
    "c_all = c_all[:19, :19]\n",
    "# print(type(u))\n",
    "np.linalg.inv(c_all)\n",
    "\n",
    "a = np.array(u)\n",
    "#\n",
    "u = list(a[:,:19])\n",
    "u"
   ],
   "metadata": {
    "collapsed": false,
    "pycharm": {
     "name": "#%%\n"
    }
   }
  },
  {
   "cell_type": "code",
   "execution_count": 18,
   "outputs": [
    {
     "data": {
      "text/plain": "[[array([-8.25555890e-03, -6.86393510e-02, -2.00579704e-02,  7.43207774e-02,\n         -1.45149425e-02, -4.24999902e-02,  2.56944251e-02,  1.22015855e-02,\n         -6.63948110e-03, -1.62066665e-03,  8.03752015e-02, -6.11211953e-02,\n          6.48490793e+00, -4.93315830e-03,  4.40728894e+01,  5.12468200e-01,\n          1.37134846e-01, -3.82322642e-01, -1.71968805e+00]),\n  array([-1525.73113633])],\n [array([ 2.27724081e-04, -6.36138522e-02, -2.56382623e-02,  7.07124444e-02,\n         -1.08270042e-02, -3.47431203e-02,  2.60790375e-02,  1.20830067e-02,\n         -1.22792604e-02, -2.78716920e-03,  7.40041730e-02, -5.62244049e-02,\n          6.57449195e+00, -5.03094922e-03,  4.45592198e+01,  5.05578578e-01,\n          9.99681933e-02, -3.22140539e-01, -1.76257755e+00]),\n  array([-1561.0151535])]]"
     },
     "execution_count": 18,
     "metadata": {},
     "output_type": "execute_result"
    }
   ],
   "source": [
    "f = []\n",
    "for i in range(class_num):\n",
    "    C_i = np.dot(np.linalg.inv(c_all), np.array(u[i]))  # size:(3,1)\n",
    "    C_oi = -0.5 * np.dot(np.array(u[i]).reshape(1, -1), C_i)  # size:(1,1)\n",
    "    f.append([C_i, C_oi])\n",
    "f"
   ],
   "metadata": {
    "collapsed": false,
    "pycharm": {
     "name": "#%%\n"
    }
   }
  },
  {
   "cell_type": "code",
   "execution_count": 19,
   "outputs": [
    {
     "data": {
      "text/plain": "(23, 4841, 6368)"
     },
     "execution_count": 19,
     "metadata": {},
     "output_type": "execute_result"
    }
   ],
   "source": [
    "im_data, im_width, im_height, im_bands, im_geotrans, im_proj = read_tiff(in_raster)  # 读取待分类栅格数据\n",
    "tmp = np.array(im_data)\n",
    "tmp.shape"
   ],
   "metadata": {
    "collapsed": false,
    "pycharm": {
     "name": "#%%\n"
    }
   }
  },
  {
   "cell_type": "code",
   "execution_count": 20,
   "outputs": [
    {
     "data": {
      "text/plain": "(19, 4841, 6368)"
     },
     "execution_count": 20,
     "metadata": {},
     "output_type": "execute_result"
    }
   ],
   "source": [
    "im_data=tmp[:19,:,:]\n",
    "im_data.shape"
   ],
   "metadata": {
    "collapsed": false,
    "pycharm": {
     "name": "#%%\n"
    }
   }
  },
  {
   "cell_type": "code",
   "execution_count": 21,
   "outputs": [],
   "source": [
    "rs_data = np.zeros((class_num, im_height, im_width))  # 新建像元属于每个类别下的概率数据\n",
    "for i in range(class_num):\n",
    "    tmp_data = im_data.transpose(1, 2, 0)\n",
    "    rs_i = np.dot(tmp_data, f[i][0])\n",
    "    rs_i = rs_i + f[i][1]\n",
    "    rs_data[i, :, :] = rs_i\n",
    "# 分类最大值index\n",
    "rs_index = np.argmax(rs_data, axis=0)  # 提取最大概率所属的类别索引\n",
    "# 分类index 对应的 分类标签label\n",
    "label_dict = dict(zip(np.array([i for i in range(class_num)]), class_label))\n",
    "rs_label = np.vectorize(label_dict.get)(rs_index)"
   ],
   "metadata": {
    "collapsed": false,
    "pycharm": {
     "name": "#%%\n"
    }
   }
  },
  {
   "cell_type": "code",
   "execution_count": 22,
   "outputs": [],
   "source": [
    "write_tiff(rs_label, im_geotrans, im_proj, out_path=out_class)"
   ],
   "metadata": {
    "collapsed": false,
    "pycharm": {
     "name": "#%%\n"
    }
   }
  }
 ],
 "metadata": {
  "kernelspec": {
   "name": "geo_env38",
   "language": "python",
   "display_name": "geo_env38"
  },
  "language_info": {
   "codemirror_mode": {
    "name": "ipython",
    "version": 2
   },
   "file_extension": ".py",
   "mimetype": "text/x-python",
   "name": "python",
   "nbconvert_exporter": "python",
   "pygments_lexer": "ipython2",
   "version": "2.7.6"
  }
 },
 "nbformat": 4,
 "nbformat_minor": 0
}