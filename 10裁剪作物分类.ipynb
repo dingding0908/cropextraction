{
 "cells": [
  {
   "cell_type": "code",
   "execution_count": 6,
   "outputs": [],
   "source": [
    "import os\n",
    "import glob\n",
    "import rasterio\n",
    "from rasterio.mask import mask\n",
    "import geopandas as gpd"
   ],
   "metadata": {
    "collapsed": false,
    "pycharm": {
     "name": "#%%\n"
    }
   }
  },
  {
   "cell_type": "code",
   "execution_count": 7,
   "metadata": {
    "collapsed": true
   },
   "outputs": [],
   "source": [
    "def clip_raster_by_shp(input_raster, input_shp, output_raster):\n",
    "    with rasterio.open(input_raster) as src:\n",
    "        gdf = gpd.read_file(input_shp)\n",
    "        clipped, out_transform = mask(src, gdf.geometry, crop=True)\n",
    "        out_meta = src.meta.copy()\n",
    "\n",
    "        out_meta.update({\n",
    "            \"driver\": \"GTiff\",\n",
    "            \"height\": clipped.shape[1],\n",
    "            \"width\": clipped.shape[2],\n",
    "            \"transform\": out_transform\n",
    "        })\n",
    "\n",
    "        with rasterio.open(output_raster, \"w\", **out_meta) as dest:\n",
    "            dest.write(clipped)"
   ]
  },
  {
   "cell_type": "code",
   "execution_count": 8,
   "outputs": [],
   "source": [
    "# input_folder = r\"E:\\Desktop\\Summary\\种植结构提取-水稻\\whole_datas\\result05181455.tif\"\n",
    "# output_folder = r\"E:\\Desktop\\Summary\\种植结构提取-水稻\\whole_datas\\clip\"\n",
    "# input_shp = r\"E:\\Desktop\\Summary\\种植结构提取-水稻\\datas\\五河农用耕地\\农用耕地.shp\"\n",
    "#\n",
    "# os.makedirs(output_folder, exist_ok=True)\n",
    "#\n",
    "# # Get a list of TIFF files in the input folder\n",
    "# input_rasters = glob.glob(input_folder + \"*.tif\")\n",
    "#\n",
    "# # # Process each TIFF file\n",
    "# # for input_raster in input_rasters:\n",
    "# #     file_name = os.path.basename(input_raster)  #返回路径下的文件名\n",
    "# #     output_raster = os.path.join(output_folder, file_name)\n",
    "# #     clip_raster_by_shp(input_raster, input_shp, output_raster)\n",
    "# #     print(f\"Clipped {file_name} and saved to {output_raster}\")"
   ],
   "metadata": {
    "collapsed": false,
    "pycharm": {
     "name": "#%%\n"
    }
   }
  },
  {
   "cell_type": "code",
   "execution_count": 12,
   "outputs": [],
   "source": [
    "input_raster=r\"E:\\Desktop\\Summary\\种植结构提取-水稻\\whole_datas\\result05191729.tif\"\n",
    "output_folder = r\"E:\\Desktop\\Summary\\种植结构提取-水稻\\whole_datas\\clip\"\n",
    "input_shp = r\"E:\\Desktop\\Summary\\种植结构提取-水稻\\datas\\五河农用耕地\\农用耕地.shp\"\n",
    "file_name = os.path.basename(input_raster)\n",
    "output_raster=os.path.join(output_folder, file_name)\n",
    "clip_raster_by_shp(input_raster, input_shp, output_raster)"
   ],
   "metadata": {
    "collapsed": false,
    "pycharm": {
     "name": "#%%\n"
    }
   }
  }
 ],
 "metadata": {
  "kernelspec": {
   "display_name": "Python 3",
   "language": "python",
   "name": "python3"
  },
  "language_info": {
   "codemirror_mode": {
    "name": "ipython",
    "version": 2
   },
   "file_extension": ".py",
   "mimetype": "text/x-python",
   "name": "python",
   "nbconvert_exporter": "python",
   "pygments_lexer": "ipython2",
   "version": "2.7.6"
  }
 },
 "nbformat": 4,
 "nbformat_minor": 0
}