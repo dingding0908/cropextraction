{
 "cells": [
  {
   "cell_type": "code",
   "execution_count": 7,
   "metadata": {
    "collapsed": true
   },
   "outputs": [],
   "source": [
    "from osgeo import gdal\n",
    "import os\n",
    "#归一化植被指数\n",
    "def get_ndvi(path):  # 计算某一影像的ndvi值，返回二维数组\n",
    "    dataset = gdal.Open(path)\n",
    "    cols = dataset.RasterXSize  # 列数\n",
    "    rows = dataset.RasterYSize  # 行数\n",
    "\n",
    "    band8 = dataset.GetRasterBand(8).ReadAsArray(0, 0, cols, rows)\n",
    "    band4 = dataset.GetRasterBand(4).ReadAsArray(0, 0, cols, rows)\n",
    "    molecule = band8 - band4\n",
    "    denominator = band8 + band4\n",
    "    del dataset\n",
    "    band = molecule / denominator\n",
    "    band[band > 1] = 9999  # 过滤异常值\n",
    "    return band\n",
    "\n",
    "\n",
    "# 比值植被指数\n",
    "def get_rvi(path):  # 计算某一影像的ndvi值，返回二维数组\n",
    "    dataset = gdal.Open(path)\n",
    "    cols = dataset.RasterXSize  # 列数\n",
    "    rows = dataset.RasterYSize  # 行数\n",
    "\n",
    "    band8 = dataset.GetRasterBand(8).ReadAsArray(0, 0, cols, rows)\n",
    "    band4 = dataset.GetRasterBand(4).ReadAsArray(0, 0, cols, rows)\n",
    "    band = band4 / band8\n",
    "    # band[band > 1] = 9999  # 过滤异常值\n",
    "    return band\n",
    "\n",
    "\n",
    "#归一化差异绿度指数\n",
    "def get_ndgi(path):  # 计算某一影像的ndvi值，返回二维数组\n",
    "    dataset = gdal.Open(path)\n",
    "    cols = dataset.RasterXSize  # 列数\n",
    "    rows = dataset.RasterYSize  # 行数\n",
    "    band4 = dataset.GetRasterBand(4).ReadAsArray(0, 0, cols, rows)  #红\n",
    "    band3 = dataset.GetRasterBand(3).ReadAsArray(0, 0, cols, rows)  #绿\n",
    "    molecule = band3 - band4\n",
    "    denominator = band4 + band3\n",
    "    del dataset\n",
    "    band = molecule / denominator\n",
    "    band[band > 1] = 9999  # 过滤异常值\n",
    "    return band\n",
    "\n",
    "\n",
    "def compute_band(file):\n",
    "    dataset = gdal.Open(file)\n",
    "    cols = dataset.RasterXSize  # 列数\n",
    "    rows = dataset.RasterYSize  # 行数\n",
    "    # 生成影像\n",
    "    target_ds = gdal.GetDriverByName('GTiff').Create(result_path, xsize=cols, ysize=rows, bands=1,\n",
    "                                                     eType=gdal.GDT_Float32)\n",
    "    target_ds.SetGeoTransform(dataset.GetGeoTransform())\n",
    "    target_ds.SetProjection(dataset.GetProjection())\n",
    "    del dataset\n",
    "    # band = get_ndvi(file)#NDVI\n",
    "    # band = get_rvi(file)#RVI\n",
    "    band = get_ndgi(file)  #NDGI\n",
    "\n",
    "    target_ds.GetRasterBand(1).SetNoDataValue(9999)\n",
    "    target_ds.GetRasterBand(1).WriteArray(band)\n",
    "    target_ds.FlushCache()"
   ]
  },
  {
   "cell_type": "code",
   "execution_count": 8,
   "outputs": [
    {
     "name": "stderr",
     "output_type": "stream",
     "text": [
      "C:\\Users\\dell\\AppData\\Local\\Temp\\ipykernel_18024\\3827634227.py:42: RuntimeWarning: invalid value encountered in divide\n",
      "  band = molecule / denominator\n"
     ]
    }
   ],
   "source": [
    "import os\n",
    "\n",
    "rootpath = os.listdir(r'E:\\Desktop\\Summary\\种植结构提取-水稻\\whole_datas')\n",
    "for itme in rootpath:\n",
    "    if itme.lower().endswith('.tif'):\n",
    "        rater_file = os.path.join(r'E:\\Desktop\\Summary\\种植结构提取-水稻\\whole_datas', itme)\n",
    "        result_path = os.path.join(r'E:\\Desktop\\Summary\\种植结构提取-水稻\\whole_datas\\NDGI', 'NDGI' + itme)\n",
    "        compute_band(rater_file)"
   ],
   "metadata": {
    "collapsed": false,
    "pycharm": {
     "name": "#%%\n"
    }
   }
  },
  {
   "cell_type": "code",
   "execution_count": null,
   "outputs": [],
   "source": [
    "#20230514\n",
    "import os\n",
    "\n",
    "rootpath = os.listdir(r'E:\\Desktop\\Summary\\种植结构提取-水稻\\datas\\CLIP')\n",
    "for itme in rootpath:\n",
    "    rater_file = os.path.join(r'E:\\Desktop\\Summary\\种植结构提取-水稻\\datas\\CLIP', itme)\n",
    "    result_path = os.path.join(r'E:\\Desktop\\Summary\\种植结构提取-水稻\\datas\\NDGI', 'NDGI' + itme[4:])\n",
    "    compute_band(rater_file)"
   ],
   "metadata": {
    "collapsed": false,
    "pycharm": {
     "name": "#%%\n"
    }
   }
  }
 ],
 "metadata": {
  "kernelspec": {
   "display_name": "Python 3",
   "language": "python",
   "name": "python3"
  },
  "language_info": {
   "codemirror_mode": {
    "name": "ipython",
    "version": 2
   },
   "file_extension": ".py",
   "mimetype": "text/x-python",
   "name": "python",
   "nbconvert_exporter": "python",
   "pygments_lexer": "ipython2",
   "version": "2.7.6"
  }
 },
 "nbformat": 4,
 "nbformat_minor": 0
}