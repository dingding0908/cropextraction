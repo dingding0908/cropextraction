{
 "cells": [
  {
   "cell_type": "code",
   "execution_count": 6,
   "outputs": [],
   "source": [
    "import numpy as np\n",
    "from osgeo import gdal\n",
    "import os\n",
    "from tqdm import tqdm"
   ],
   "metadata": {
    "collapsed": false,
    "pycharm": {
     "name": "#%%\n"
    }
   }
  },
  {
   "cell_type": "code",
   "execution_count": 7,
   "metadata": {
    "collapsed": true
   },
   "outputs": [
    {
     "name": "stderr",
     "output_type": "stream",
     "text": [
      "100%|██████████| 13/13 [00:00<00:00, 149.25it/s]\n"
     ]
    }
   ],
   "source": [
    "# 20230509 五河影像裁剪部分\n",
    "ProFiles = os.listdir(r'E:\\Desktop\\Summary\\种植结构提取-水稻\\datas\\RVI')\n",
    "shpfile = r'E:\\Desktop\\Summary\\种植结构提取-水稻\\datas\\clipshp\\玉米样本1.shp'\n",
    "for item in tqdm(ProFiles):\n",
    "    if item.lower().endswith('.tif'):\n",
    "    # if item[-4:] == '.tif':\n",
    "        src = (r'E:\\Desktop\\Summary\\种植结构提取-水稻\\datas\\RVI\\\\{}'.format(item))\n",
    "        dst = os.path.join(r'E:\\Desktop\\Summary\\种植结构提取-水稻\\datas\\Sample_corn', 'cliprvi' + item.split('\\\\')[-1])\n",
    "        ds = gdal.Warp(dst,  # 裁剪图像保存完整路径（包括文件名）\n",
    "                       src,  # 待裁剪的影像\n",
    "                       format='GTiff',  # 保存图像的格式\n",
    "                       cutlineDSName=shpfile,  # 矢量文件的完整路径\n",
    "                       cropToCutline=True,  # 保证裁剪后影像大小跟矢量文件的图框大小一致（设置为False时，结果图像大小会跟待裁剪影像大小一样，则会出现大量的空值区域）\n",
    "                       # cutlineWhere=\"FIELD = 'whatever'\",\n",
    "                       dstNodata=0)\n",
    "        ds = None"
   ]
  },
  {
   "cell_type": "code",
   "execution_count": null,
   "outputs": [],
   "source": [
    "# hdf_file.lower().endswith('.hdf')"
   ],
   "metadata": {
    "collapsed": false,
    "pycharm": {
     "name": "#%%\n"
    }
   }
  },
  {
   "cell_type": "code",
   "execution_count": 3,
   "outputs": [],
   "source": [
    "# 读取栅格并计算NDVI平均值"
   ],
   "metadata": {
    "collapsed": false,
    "pycharm": {
     "name": "#%%\n"
    }
   }
  },
  {
   "cell_type": "code",
   "execution_count": 8,
   "outputs": [
    {
     "name": "stderr",
     "output_type": "stream",
     "text": [
      "100%|██████████| 18/18 [00:00<00:00, 234.41it/s]"
     ]
    },
    {
     "name": "stdout",
     "output_type": "stream",
     "text": [
      "ndvi:\n",
      " [0.13744773 0.54794288 0.67678112 0.64988005 0.39190602 0.26711866] \n",
      "ndgi:\n",
      " [-0.08439678  0.13176204  0.21568678  0.17739724 -0.01015028 -0.08365534] \n",
      "rvi:\n",
      " [0.58281589 0.16368718 0.07898598 0.0948187  0.29698363 0.42140558]\n"
     ]
    },
    {
     "name": "stderr",
     "output_type": "stream",
     "text": [
      "\n"
     ]
    }
   ],
   "source": [
    "import gdal\n",
    "import numpy as np\n",
    "\n",
    "ndvi = np.array([])\n",
    "ndgi = np.array([])\n",
    "rvi = np.array([])\n",
    "# 打开栅格文件\n",
    "filedictory = os.listdir(r'E:\\Desktop\\Summary\\种植结构提取-水稻\\datas\\Sample_corn')\n",
    "for item in tqdm(filedictory):\n",
    "    src = (r'E:\\Desktop\\Summary\\种植结构提取-水稻\\datas\\Sample_corn\\\\{}'.format(item))\n",
    "    if item[-4:] == '.tif' and item[:8] == 'clipndvi':\n",
    "        dataset = gdal.Open(src)\n",
    "        # 获取栅格波段\n",
    "        band = dataset.GetRasterBand(1)\n",
    "        # 获取栅格数据的宽度和高度\n",
    "        cols = dataset.RasterXSize\n",
    "        rows = dataset.RasterYSize\n",
    "        # 读取栅格数据\n",
    "        data = band.ReadAsArray(0, 0, cols, rows)\n",
    "        # 计算像元的平均值\n",
    "        mean = np.nanmean(data)\n",
    "        ndvi = np.append(ndvi, mean)\n",
    "    if item[-4:] == '.tif' and item[:8] == 'clipndgi':\n",
    "        dataset = gdal.Open(src)\n",
    "        # 获取栅格波段\n",
    "        band = dataset.GetRasterBand(1)\n",
    "        # 获取栅格数据的宽度和高度\n",
    "        cols = dataset.RasterXSize\n",
    "        rows = dataset.RasterYSize\n",
    "        # 读取栅格数据\n",
    "        data = band.ReadAsArray(0, 0, cols, rows)\n",
    "        # 计算像元的平均值\n",
    "        mean = np.nanmean(data)\n",
    "        ndgi = np.append(ndgi, mean)\n",
    "    if item[-4:] == '.tif' and item[:7] == 'cliprvi':\n",
    "        dataset = gdal.Open(src)\n",
    "        # 获取栅格波段\n",
    "        band = dataset.GetRasterBand(1)\n",
    "        # 获取栅格数据的宽度和高度\n",
    "        cols = dataset.RasterXSize\n",
    "        rows = dataset.RasterYSize\n",
    "        # 读取栅格数据\n",
    "        data = band.ReadAsArray(0, 0, cols, rows)\n",
    "        # 计算像元的平均值\n",
    "        mean = np.nanmean(data)\n",
    "        rvi = np.append(rvi, mean)\n",
    "print('ndvi:\\n', ndvi, '\\nndgi:\\n', ndgi, '\\nrvi:\\n', rvi)"
   ],
   "metadata": {
    "collapsed": false,
    "pycharm": {
     "name": "#%%\n"
    }
   }
  },
  {
   "cell_type": "code",
   "execution_count": 9,
   "outputs": [],
   "source": [
    "aa = np.append(ndvi, ndgi)\n",
    "aa = np.append(aa, rvi)\n",
    "aa\n",
    "np.savetxt(r'E:\\Desktop\\Summary\\种植结构提取-水稻\\datas\\Sample_corn\\ndvi_ndgi_rvi.csv', aa, delimiter=',')"
   ],
   "metadata": {
    "collapsed": false,
    "pycharm": {
     "name": "#%%\n"
    }
   }
  },
  {
   "cell_type": "code",
   "execution_count": 10,
   "outputs": [],
   "source": [
    "bb = aa.reshape((3, 6))"
   ],
   "metadata": {
    "collapsed": false,
    "pycharm": {
     "name": "#%%\n"
    }
   }
  },
  {
   "cell_type": "code",
   "execution_count": 11,
   "outputs": [],
   "source": [
    "import pandas as pd\n",
    "\n",
    "df = pd.DataFrame(bb)\n",
    "df=df.rename(columns={0: '07-03', 1: '08-02', 2: '08-22', 3: '09-16', 4: '10-06', 5: '10-21'},index={0:'ndvi',1:'ndgi',2:'rvi'})\n",
    "df.to_csv(r'E:\\Desktop\\Summary\\种植结构提取-水稻\\datas\\Sample_corn\\corn_ndvi_ndgi_rvi.csv')"
   ],
   "metadata": {
    "collapsed": false,
    "pycharm": {
     "name": "#%%\n"
    }
   }
  },
  {
   "cell_type": "code",
   "execution_count": 13,
   "outputs": [
    {
     "data": {
      "text/plain": "Text(0.5, 1.0, 'Line Chart')"
     },
     "execution_count": 13,
     "metadata": {},
     "output_type": "execute_result"
    },
    {
     "data": {
      "text/plain": "<Figure size 640x480 with 1 Axes>",
      "image/png": "[encoded data removed]"
     },
     "metadata": {},
     "output_type": "display_data"
    }
   ],
   "source": [
    "import matplotlib.pyplot as plt\n",
    "\n",
    "ndvi = bb[0, :]\n",
    "ndgi = bb[1, :]\n",
    "rvi = bb[2, :]\n",
    "date = np.array(['07-03', '08-02', '08-22', '09-16', '10-06', '10-21'])\n",
    "ndvi\n",
    "plt.plot(date, ndvi, label='ndvi')\n",
    "plt.plot(date, rvi, label='rvi')\n",
    "plt.plot(date, ndgi, label='dngi')\n",
    "plt.legend()\n",
    "plt.xlabel('x')\n",
    "plt.ylabel('y')\n",
    "plt.title('Line Chart')"
   ],
   "metadata": {
    "collapsed": false,
    "pycharm": {
     "name": "#%%\n"
    }
   }
  },
  {
   "cell_type": "code",
   "execution_count": null,
   "outputs": [],
   "source": [],
   "metadata": {
    "collapsed": false,
    "pycharm": {
     "name": "#%%\n"
    }
   }
  }
 ],
 "metadata": {
  "kernelspec": {
   "display_name": "Python 3",
   "language": "python",
   "name": "python3"
  },
  "language_info": {
   "codemirror_mode": {
    "name": "ipython",
    "version": 2
   },
   "file_extension": ".py",
   "mimetype": "text/x-python",
   "name": "python",
   "nbconvert_exporter": "python",
   "pygments_lexer": "ipython2",
   "version": "2.7.6"
  }
 },
 "nbformat": 4,
 "nbformat_minor": 0
}