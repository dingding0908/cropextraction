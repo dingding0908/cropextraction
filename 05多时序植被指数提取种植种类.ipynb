{
 "cells": [
  {
   "cell_type": "code",
   "execution_count": 234,
   "metadata": {
    "collapsed": true
   },
   "outputs": [],
   "source": [
    "# 1、读取监督分类的遥感影像,可以认为是一个掩膜数据。\n",
    "# 2、读取NDVI、NDGI、RVI植被指数指标影像，存储为中间变量。\n",
    "# 3、根据样本的植被指数指标设定过滤指标，第一次筛选：K(NDGI[8-22])<0,生成掩膜数据一\n",
    "# 4、根据样本的植被指数指标设定过滤指标，第二次筛选：K(NDGI[8-22至9-16])>0,生成掩膜数据二\n",
    "# 5、根据样本的植被指数指标设定过滤指标，第三次筛选：RVI[08-02至09-16]在(0.07,0.17)以外,生成掩膜数据三\n",
    "# 6、把三次掩膜数据进行叠加，有0的标记为0，其他的标记为1，生成新的掩膜数据总\n",
    "# 7、掩膜数据总和之前最大似然法获取的作物分类影像行进运算，提升影像运算精度，导出最终分类影像。"
   ]
  },
  {
   "cell_type": "markdown",
   "source": [
    "# 1、读取监督分类的遥感影像,可以认为是一个掩膜数据。"
   ],
   "metadata": {
    "collapsed": false,
    "pycharm": {
     "name": "#%% md\n"
    }
   }
  },
  {
   "cell_type": "code",
   "execution_count": 1,
   "outputs": [],
   "source": [
    "from osgeo import gdal\n",
    "import os\n",
    "from tqdm import tqdm\n",
    "import numpy as np\n",
    "import pandas as pd\n",
    "import matplotlib.pyplot as plt"
   ],
   "metadata": {
    "collapsed": false,
    "pycharm": {
     "name": "#%%\n"
    }
   }
  },
  {
   "cell_type": "code",
   "execution_count": 2,
   "outputs": [
    {
     "name": "stdout",
     "output_type": "stream",
     "text": [
      "完成！！！\n"
     ]
    }
   ],
   "source": [
    "tif_class = r'E:\\Desktop\\Summary\\种植结构提取-水稻\\datas\\MLSC\\MLSC_2021-08-22_4074_S2DL.tif'\n",
    "dataset = gdal.Open(tif_class)\n",
    "bandclass = dataset.GetRasterBand(1)\n",
    "dataclass = bandclass.ReadAsArray()\n",
    "dataclass.astype('int16')  # 设置分类后的数据类型\n",
    "width = dataset.RasterXSize\n",
    "height = dataset.RasterYSize\n",
    "projection = dataset.GetProjection()\n",
    "geotransform = dataset.GetGeoTransform()\n",
    "print('完成！！！')"
   ],
   "metadata": {
    "collapsed": false,
    "pycharm": {
     "name": "#%%\n"
    }
   }
  },
  {
   "cell_type": "code",
   "execution_count": 3,
   "outputs": [],
   "source": [
    "classic = dataclass.reshape(-1)"
   ],
   "metadata": {
    "collapsed": false,
    "pycharm": {
     "name": "#%%\n"
    }
   }
  },
  {
   "cell_type": "markdown",
   "source": [
    "# 2、读取NDVI、NDGI、RVI植被指数指标影像，存储为中间变量。"
   ],
   "metadata": {
    "collapsed": false,
    "pycharm": {
     "name": "#%% md\n"
    }
   }
  },
  {
   "cell_type": "code",
   "execution_count": 4,
   "outputs": [
    {
     "name": "stderr",
     "output_type": "stream",
     "text": [
      "100%|██████████| 13/13 [00:00<00:00, 724.37it/s]\n"
     ]
    }
   ],
   "source": [
    "# 2、读取NDVI、NDGI、RVI植被指数指标影像，存储为中间变量。\n",
    "#NDVI 读取栅格数据\n",
    "dfndvi = pd.DataFrame()\n",
    "ProFiles = os.listdir(r'E:\\Desktop\\Summary\\种植结构提取-水稻\\datas\\NDVI')\n",
    "for item in tqdm(ProFiles):\n",
    "    if item.lower().endswith('.tif'):\n",
    "        src = (r'E:\\Desktop\\Summary\\种植结构提取-水稻\\datas\\NDVI\\\\{}'.format(item))\n",
    "        dataset = gdal.Open(src)\n",
    "        ndvi_data = dataset.GetRasterBand(1).ReadAsArray()\n",
    "        ndvi_data = np.nan_to_num(ndvi_data, nan=999)\n",
    "        dfndvi[item[9:14]] = (ndvi_data.reshape(-1))\n",
    "dfndvit = dfndvi.T\n",
    "dfndvit['x'] = range(6)\n",
    "# dfndvit.plot(x='x', y=list(range(1, 12)))\n",
    "# dfndvit.to_csv(r'E:\\Desktop\\Summary\\种植结构提取-水稻\\datas\\NDVI\\ndvi.csv')"
   ],
   "metadata": {
    "collapsed": false,
    "pycharm": {
     "name": "#%%\n"
    }
   }
  },
  {
   "cell_type": "code",
   "execution_count": 5,
   "outputs": [
    {
     "name": "stderr",
     "output_type": "stream",
     "text": [
      "100%|██████████| 7/7 [00:00<00:00, 350.89it/s]\n"
     ]
    }
   ],
   "source": [
    "dfndgi = pd.DataFrame()\n",
    "ProFiles = os.listdir(r'E:\\Desktop\\Summary\\种植结构提取-水稻\\datas\\NDGI')\n",
    "for item in tqdm(ProFiles):\n",
    "    if item[-4:] == '.tif':\n",
    "        src = (r'E:\\Desktop\\Summary\\种植结构提取-水稻\\datas\\NDGI\\\\{}'.format(item))\n",
    "        dataset = gdal.Open(src)\n",
    "        ndgi_data = dataset.GetRasterBand(1).ReadAsArray()\n",
    "        ndgi_data = np.nan_to_num(ndgi_data, nan=999)\n",
    "        dfndgi[item[9:14]] = (ndgi_data.reshape(-1))\n",
    "dfndgit = dfndgi.T\n",
    "dfndgit['x'] = range(6)\n",
    "# dfndgit.plot(x='x', y=list(range(1, 12)))\n",
    "# dfndgit.to_csv(r'E:\\Desktop\\Summary\\种植结构提取-水稻\\datas\\NDGI\\ndgi.csv')"
   ],
   "metadata": {
    "collapsed": false,
    "pycharm": {
     "name": "#%%\n"
    }
   }
  },
  {
   "cell_type": "code",
   "execution_count": 6,
   "outputs": [
    {
     "name": "stderr",
     "output_type": "stream",
     "text": [
      "100%|██████████| 13/13 [00:00<00:00, 620.57it/s]\n"
     ]
    }
   ],
   "source": [
    "dfrvi = pd.DataFrame()\n",
    "ProFiles = os.listdir(r'E:\\Desktop\\Summary\\种植结构提取-水稻\\datas\\RVI')\n",
    "for item in tqdm(ProFiles):\n",
    "    if item[-4:] == '.tif':\n",
    "        src = (r'E:\\Desktop\\Summary\\种植结构提取-水稻\\datas\\RVI\\\\{}'.format(item))\n",
    "        dataset = gdal.Open(src)\n",
    "        rvi_data = dataset.GetRasterBand(1).ReadAsArray()\n",
    "        rvi_data = np.nan_to_num(rvi_data, nan=999)\n",
    "        dfrvi[item[8:13]] = (rvi_data.reshape(-1))\n",
    "dfrvit = dfrvi.T\n",
    "dfrvit['x'] = range(6)\n",
    "# dfrvit.plot(x='x', y=list(range(1, 12)))\n",
    "# dfrvit.to_csv(r'E:\\Desktop\\Summary\\种植结构提取-水稻\\datas\\RVI\\rvi.csv')"
   ],
   "metadata": {
    "collapsed": false,
    "pycharm": {
     "name": "#%%\n"
    }
   }
  },
  {
   "cell_type": "code",
   "execution_count": 7,
   "outputs": [
    {
     "data": {
      "text/plain": "           0         1         2         3         4         5         6  \\\n07-03  999.0  0.708869  0.672230  0.666888  0.669577  0.678208  0.690652   \n08-02  999.0  0.096945  0.162025  0.149761  0.167720  0.170813  0.189131   \n08-22  999.0  0.041948  0.058155  0.046536  0.052191  0.058699  0.095940   \n09-16  999.0  0.110092  0.078486  0.076406  0.075494  0.096018  0.153597   \n10-06  999.0  0.521097  0.349306  0.311470  0.333537  0.350955  0.478384   \n10-21  999.0  0.664099  0.632379  0.634213  0.621841  0.617352  0.597816   \n\n              7         8         9  ...    203826    203827    203828  \\\n07-03  0.690652  0.694242  0.708651  ...  0.682944  0.689519  0.688557   \n08-02  0.189131  0.135271  0.115567  ...  0.170451  0.234244  0.233996   \n08-22  0.095940  0.104308  0.061321  ...  0.076092  0.099560  0.075305   \n09-16  0.153597  0.133333  0.116861  ...  0.108523  0.084171  0.071934   \n10-06  0.478384  0.641994  0.660767  ...  0.358219  0.148340  0.173434   \n10-21  0.597816  0.638693  0.623410  ...  0.339679  0.192552  0.231513   \n\n         203829    203830    203831    203832    203833  203834  x  \n07-03  0.660290  0.660290  0.570157  0.489753  0.420241   999.0  0  \n08-02  0.127119  0.127119  0.082522  0.071731  0.078804   999.0  1  \n08-22  0.046975  0.046975  0.045636  0.040021  0.045964   999.0  2  \n09-16  0.063236  0.063236  0.062044  0.061353  0.066432   999.0  3  \n10-06  0.303219  0.303219  0.434677  0.400683  0.230296   999.0  4  \n10-21  0.287465  0.287465  0.363985  0.342499  0.253822   999.0  5  \n\n[6 rows x 203836 columns]",
      "text/html": "<div>\n<style scoped>\n    .dataframe tbody tr th:only-of-type {\n        vertical-align: middle;\n    }\n\n    .dataframe tbody tr th {\n        vertical-align: top;\n    }\n\n    .dataframe thead th {\n        text-align: right;\n    }\n</style>\n<table border=\"1\" class=\"dataframe\">\n  <thead>\n    <tr style=\"text-align: right;\">\n      <th></th>\n      <th>0</th>\n      <th>1</th>\n      <th>2</th>\n      <th>3</th>\n      <th>4</th>\n      <th>5</th>\n      <th>6</th>\n      <th>7</th>\n      <th>8</th>\n      <th>9</th>\n      <th>...</th>\n      <th>203826</th>\n      <th>203827</th>\n      <th>203828</th>\n      <th>203829</th>\n      <th>203830</th>\n      <th>203831</th>\n      <th>203832</th>\n      <th>203833</th>\n      <th>203834</th>\n      <th>x</th>\n    </tr>\n  </thead>\n  <tbody>\n    <tr>\n      <th>07-03</th>\n      <td>999.0</td>\n      <td>0.708869</td>\n      <td>0.672230</td>\n      <td>0.666888</td>\n      <td>0.669577</td>\n      <td>0.678208</td>\n      <td>0.690652</td>\n      <td>0.690652</td>\n      <td>0.694242</td>\n      <td>0.708651</td>\n      <td>...</td>\n      <td>0.682944</td>\n      <td>0.689519</td>\n      <td>0.688557</td>\n      <td>0.660290</td>\n      <td>0.660290</td>\n      <td>0.570157</td>\n      <td>0.489753</td>\n      <td>0.420241</td>\n      <td>999.0</td>\n      <td>0</td>\n    </tr>\n    <tr>\n      <th>08-02</th>\n      <td>999.0</td>\n      <td>0.096945</td>\n      <td>0.162025</td>\n      <td>0.149761</td>\n      <td>0.167720</td>\n      <td>0.170813</td>\n      <td>0.189131</td>\n      <td>0.189131</td>\n      <td>0.135271</td>\n      <td>0.115567</td>\n      <td>...</td>\n      <td>0.170451</td>\n      <td>0.234244</td>\n      <td>0.233996</td>\n      <td>0.127119</td>\n      <td>0.127119</td>\n      <td>0.082522</td>\n      <td>0.071731</td>\n      <td>0.078804</td>\n      <td>999.0</td>\n      <td>1</td>\n    </tr>\n    <tr>\n      <th>08-22</th>\n      <td>999.0</td>\n      <td>0.041948</td>\n      <td>0.058155</td>\n      <td>0.046536</td>\n      <td>0.052191</td>\n      <td>0.058699</td>\n      <td>0.095940</td>\n      <td>0.095940</td>\n      <td>0.104308</td>\n      <td>0.061321</td>\n      <td>...</td>\n      <td>0.076092</td>\n      <td>0.099560</td>\n      <td>0.075305</td>\n      <td>0.046975</td>\n      <td>0.046975</td>\n      <td>0.045636</td>\n      <td>0.040021</td>\n      <td>0.045964</td>\n      <td>999.0</td>\n      <td>2</td>\n    </tr>\n    <tr>\n      <th>09-16</th>\n      <td>999.0</td>\n      <td>0.110092</td>\n      <td>0.078486</td>\n      <td>0.076406</td>\n      <td>0.075494</td>\n      <td>0.096018</td>\n      <td>0.153597</td>\n      <td>0.153597</td>\n      <td>0.133333</td>\n      <td>0.116861</td>\n      <td>...</td>\n      <td>0.108523</td>\n      <td>0.084171</td>\n      <td>0.071934</td>\n      <td>0.063236</td>\n      <td>0.063236</td>\n      <td>0.062044</td>\n      <td>0.061353</td>\n      <td>0.066432</td>\n      <td>999.0</td>\n      <td>3</td>\n    </tr>\n    <tr>\n      <th>10-06</th>\n      <td>999.0</td>\n      <td>0.521097</td>\n      <td>0.349306</td>\n      <td>0.311470</td>\n      <td>0.333537</td>\n      <td>0.350955</td>\n      <td>0.478384</td>\n      <td>0.478384</td>\n      <td>0.641994</td>\n      <td>0.660767</td>\n      <td>...</td>\n      <td>0.358219</td>\n      <td>0.148340</td>\n      <td>0.173434</td>\n      <td>0.303219</td>\n      <td>0.303219</td>\n      <td>0.434677</td>\n      <td>0.400683</td>\n      <td>0.230296</td>\n      <td>999.0</td>\n      <td>4</td>\n    </tr>\n    <tr>\n      <th>10-21</th>\n      <td>999.0</td>\n      <td>0.664099</td>\n      <td>0.632379</td>\n      <td>0.634213</td>\n      <td>0.621841</td>\n      <td>0.617352</td>\n      <td>0.597816</td>\n      <td>0.597816</td>\n      <td>0.638693</td>\n      <td>0.623410</td>\n      <td>...</td>\n      <td>0.339679</td>\n      <td>0.192552</td>\n      <td>0.231513</td>\n      <td>0.287465</td>\n      <td>0.287465</td>\n      <td>0.363985</td>\n      <td>0.342499</td>\n      <td>0.253822</td>\n      <td>999.0</td>\n      <td>5</td>\n    </tr>\n  </tbody>\n</table>\n<p>6 rows × 203836 columns</p>\n</div>"
     },
     "execution_count": 7,
     "metadata": {},
     "output_type": "execute_result"
    }
   ],
   "source": [
    "dfrvit"
   ],
   "metadata": {
    "collapsed": false,
    "pycharm": {
     "name": "#%%\n"
    }
   }
  },
  {
   "cell_type": "markdown",
   "source": [
    "# 3、根据样本的植被指数指标设定过滤指标，第一次筛选：K(NDGI[8-22])<0,生成掩膜数据一"
   ],
   "metadata": {
    "collapsed": false,
    "pycharm": {
     "name": "#%% md\n"
    }
   }
  },
  {
   "cell_type": "code",
   "execution_count": 8,
   "outputs": [],
   "source": [
    "# 获取NDGI的斜率\n",
    "# 根据条件一筛选\n",
    "# dfndgit.shape\n",
    "x_data = dfndgit['x'].values\n",
    "NDGI_data = []\n",
    "for i in range(dfndgit.shape[1] - 1):\n",
    "    tmp = dfndgit[i].values\n",
    "    NDGI_data.append(tmp)"
   ],
   "metadata": {
    "collapsed": false,
    "pycharm": {
     "name": "#%%\n"
    }
   }
  },
  {
   "cell_type": "code",
   "execution_count": 246,
   "outputs": [],
   "source": [
    "slope_ndgi = []\n",
    "for item in NDGI_data:\n",
    "    tmp1 = np.gradient(item, x_data)\n",
    "    slope_ndgi.append(tmp1)"
   ],
   "metadata": {
    "collapsed": false,
    "pycharm": {
     "name": "#%%\n"
    }
   }
  },
  {
   "cell_type": "code",
   "execution_count": null,
   "outputs": [],
   "source": [
    "dfndgi"
   ],
   "metadata": {
    "collapsed": false,
    "pycharm": {
     "name": "#%%\n",
     "is_executing": true
    }
   }
  },
  {
   "cell_type": "code",
   "execution_count": 253,
   "outputs": [],
   "source": [
    "s_ndgi = pd.DataFrame(slope_ndgi)\n",
    "# mask1 = np.where((s_ndgi[2] >=0&s_ndgi[3] <=0)|(s_ndgi[3] >=0&s_ndgi[4] <=0), 1, 0)\n",
    "mask1 = np.where(((s_ndgi[2] >=0)&(s_ndgi[3] <=0)|(s_ndgi[3] >=0)&(s_ndgi[4] <=0)), 1, 0)"
   ],
   "metadata": {
    "collapsed": false,
    "pycharm": {
     "name": "#%%\n"
    }
   }
  },
  {
   "cell_type": "code",
   "execution_count": 254,
   "outputs": [
    {
     "data": {
      "text/plain": "155314"
     },
     "execution_count": 254,
     "metadata": {},
     "output_type": "execute_result"
    }
   ],
   "source": [
    "mask1.sum()"
   ],
   "metadata": {
    "collapsed": false,
    "pycharm": {
     "name": "#%%\n"
    }
   }
  },
  {
   "cell_type": "markdown",
   "source": [
    "# 4、根据样本的植被指数指标设定过滤指标，第二次筛选：K(NDGI[10-02至9-16])>0,生成掩膜数据二"
   ],
   "metadata": {
    "collapsed": false,
    "pycharm": {
     "name": "#%% md\n"
    }
   }
  },
  {
   "cell_type": "code",
   "execution_count": 175,
   "outputs": [
    {
     "data": {
      "text/plain": "array([1, 1, 1, ..., 1, 1, 1])"
     },
     "execution_count": 175,
     "metadata": {},
     "output_type": "execute_result"
    }
   ],
   "source": [
    "mask2 = np.where(((s_ndgi[3] > 0) & (s_ndgi[4] > 0)), 0, 1)\n",
    "mask2"
   ],
   "metadata": {
    "collapsed": false,
    "pycharm": {
     "name": "#%%\n"
    }
   }
  },
  {
   "cell_type": "markdown",
   "source": [
    "# 5、根据样本的植被指数指标设定过滤指标，第三次筛选：RVI[08-02至09-16]在(0.07,0.17)以外,生成掩膜数据三"
   ],
   "metadata": {
    "collapsed": false,
    "pycharm": {
     "name": "#%% md\n"
    }
   }
  },
  {
   "cell_type": "code",
   "execution_count": 23,
   "outputs": [
    {
     "data": {
      "text/plain": "pandas.core.frame.DataFrame"
     },
     "execution_count": 23,
     "metadata": {},
     "output_type": "execute_result"
    }
   ],
   "source": [
    "type(dfrvi)"
   ],
   "metadata": {
    "collapsed": false,
    "pycharm": {
     "name": "#%%\n"
    }
   }
  },
  {
   "cell_type": "code",
   "execution_count": 34,
   "outputs": [],
   "source": [
    "dfrvi1 = dfrvi.rename(columns={'7-03_': 0, '8-02_': 1, '8-22_': 2, '9-16_': 3, '0-06_': 4, '0-21_': 5})"
   ],
   "metadata": {
    "collapsed": false,
    "pycharm": {
     "name": "#%%\n"
    }
   }
  },
  {
   "cell_type": "code",
   "execution_count": null,
   "outputs": [],
   "source": [
    "dfrvi1"
   ],
   "metadata": {
    "collapsed": false,
    "pycharm": {
     "name": "#%%\n",
     "is_executing": true
    }
   }
  },
  {
   "cell_type": "code",
   "execution_count": null,
   "outputs": [],
   "source": [
    "mask3 = np.where(((dfrvi1[1] >= 0.07) & (dfrvi1[1] <= 0.17) & (dfrvi1[2] >= 0.07) & (dfrvi1[2] < 0.17) & (\n",
    "        dfrvi1[3] >= 0.07) & (dfrvi1[3] < 0.17)), 1, 0)\n",
    "mask3"
   ],
   "metadata": {
    "collapsed": false,
    "pycharm": {
     "name": "#%%\n",
     "is_executing": true
    }
   }
  },
  {
   "cell_type": "markdown",
   "source": [
    "# 6、把三次掩膜数据进行叠加，有0的标记为0，其他的标记为1，生成新的掩膜数据总"
   ],
   "metadata": {
    "collapsed": false,
    "pycharm": {
     "name": "#%% md\n"
    }
   }
  },
  {
   "cell_type": "code",
   "execution_count": 135,
   "outputs": [
    {
     "data": {
      "text/plain": "array([0, 0, 0, ..., 0, 0, 0])"
     },
     "execution_count": 135,
     "metadata": {},
     "output_type": "execute_result"
    }
   ],
   "source": [
    "result_array = mask1.copy()\n",
    "result_array = np.where(mask1 == 0, 0, result_array)\n",
    "result_array = np.where(mask2 == 0, 0, result_array)\n",
    "result_array = np.where(mask3 == 0, 0, result_array)\n",
    "result_array"
   ],
   "metadata": {
    "collapsed": false,
    "pycharm": {
     "name": "#%%\n"
    }
   }
  },
  {
   "cell_type": "markdown",
   "source": [
    "# 7、掩膜数据总和之前最大似然法获取的作物分类影像行进运算，提升影像运算精度，导出最终分类影像。"
   ],
   "metadata": {
    "collapsed": false,
    "pycharm": {
     "name": "#%% md\n"
    }
   }
  },
  {
   "cell_type": "code",
   "execution_count": null,
   "outputs": [],
   "source": [
    "# classic\n",
    "# np.where(((classic == 0) and (mask1 == 1)), 0, 1)"
   ],
   "metadata": {
    "collapsed": false,
    "pycharm": {
     "name": "#%%\n",
     "is_executing": true
    }
   }
  },
  {
   "cell_type": "code",
   "execution_count": null,
   "outputs": [],
   "source": [
    "type(result_array)"
   ],
   "metadata": {
    "collapsed": false,
    "pycharm": {
     "name": "#%%\n",
     "is_executing": true
    }
   }
  },
  {
   "cell_type": "code",
   "execution_count": 214,
   "outputs": [
    {
     "data": {
      "text/plain": "array([1, 0, 0, ..., 0, 0, 1], dtype=int16)"
     },
     "execution_count": 214,
     "metadata": {},
     "output_type": "execute_result"
    }
   ],
   "source": [
    "classic.astype('int16')"
   ],
   "metadata": {
    "collapsed": false,
    "pycharm": {
     "name": "#%%\n"
    }
   }
  },
  {
   "cell_type": "code",
   "execution_count": 255,
   "outputs": [
    {
     "data": {
      "text/plain": "143927"
     },
     "execution_count": 255,
     "metadata": {},
     "output_type": "execute_result"
    }
   ],
   "source": [
    "mask = np.where(((classic == 0) & (mask1 == 1)), 0, 1)\n",
    "mask.sum()"
   ],
   "metadata": {
    "collapsed": false,
    "pycharm": {
     "name": "#%%\n"
    }
   }
  },
  {
   "cell_type": "code",
   "execution_count": 216,
   "outputs": [
    {
     "data": {
      "text/plain": "4219"
     },
     "execution_count": 216,
     "metadata": {},
     "output_type": "execute_result"
    }
   ],
   "source": [
    "result_array.sum()"
   ],
   "metadata": {
    "collapsed": false,
    "pycharm": {
     "name": "#%%\n"
    }
   }
  },
  {
   "cell_type": "code",
   "execution_count": null,
   "outputs": [],
   "source": [
    "band=mask.reshape((height,width))\n",
    "plt.imshow(band)\n",
    "plt.savefig(r'E:\\Desktop\\Summary\\种植结构提取-水稻\\datas\\LineChart\\result2.png',dpi=600)"
   ],
   "metadata": {
    "collapsed": false,
    "pycharm": {
     "name": "#%%\n",
     "is_executing": true
    }
   }
  },
  {
   "cell_type": "code",
   "execution_count": 256,
   "outputs": [
    {
     "name": "stdout",
     "output_type": "stream",
     "text": [
      "完成！！！\n"
     ]
    }
   ],
   "source": [
    "tif_class = r'E:\\Desktop\\Summary\\种植结构提取-水稻\\datas\\MLSC\\MLSC_2021-08-22_4074_S2DL.tif'\n",
    "dataset = gdal.Open(tif_class)\n",
    "bandclass = dataset.GetRasterBand(1)\n",
    "dataclass = bandclass.ReadAsArray()\n",
    "dataclass.astype('int16')  # 设置分类后的数据类型\n",
    "width = dataset.RasterXSize\n",
    "height = dataset.RasterYSize\n",
    "projection = dataset.GetProjection()\n",
    "geotransform = dataset.GetGeoTransform()\n",
    "print('完成！！！')"
   ],
   "metadata": {
    "collapsed": false,
    "pycharm": {
     "name": "#%%\n"
    }
   }
  },
  {
   "cell_type": "code",
   "execution_count": null,
   "outputs": [],
   "source": [
    "classic.sum()"
   ],
   "metadata": {
    "collapsed": false,
    "pycharm": {
     "name": "#%%\n",
     "is_executing": true
    }
   }
  },
  {
   "cell_type": "code",
   "execution_count": 257,
   "outputs": [],
   "source": [
    "result_path=r'E:\\Desktop\\Summary\\种植结构提取-水稻\\datas\\result4sampel1.tif'\n",
    "target_ds = gdal.GetDriverByName('GTiff').Create(result_path, xsize=width, ysize=height, bands=1,\n",
    "                                                 eType=gdal.GDT_Int16)\n",
    "target_ds.SetGeoTransform(dataset.GetGeoTransform())\n",
    "target_ds.SetProjection(dataset.GetProjection())\n",
    "del dataset\n",
    "target_ds.GetRasterBand(1).SetNoDataValue(9999)\n",
    "target_ds.GetRasterBand(1).WriteArray(band)\n",
    "target_ds.FlushCache()"
   ],
   "metadata": {
    "collapsed": false,
    "pycharm": {
     "name": "#%%\n"
    }
   }
  }
 ],
 "metadata": {
  "kernelspec": {
   "display_name": "Python 3",
   "language": "python",
   "name": "python3"
  },
  "language_info": {
   "codemirror_mode": {
    "name": "ipython",
    "version": 2
   },
   "file_extension": ".py",
   "mimetype": "text/x-python",
   "name": "python",
   "nbconvert_exporter": "python",
   "pygments_lexer": "ipython2",
   "version": "2.7.6"
  }
 },
 "nbformat": 4,
 "nbformat_minor": 0
}